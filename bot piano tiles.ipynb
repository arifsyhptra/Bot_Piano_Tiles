{
 "cells": [
  {
   "cell_type": "code",
   "execution_count": 36,
   "id": "4fe58e3c",
   "metadata": {},
   "outputs": [
    {
     "data": {
      "text/plain": [
       "1"
      ]
     },
     "execution_count": 36,
     "metadata": {},
     "output_type": "execute_result"
    }
   ],
   "source": [
    "import pyautogui,time\n",
    "import keyboard\n",
    "1"
   ]
  },
  {
   "cell_type": "code",
   "execution_count": 37,
   "id": "6ffd79de",
   "metadata": {},
   "outputs": [],
   "source": [
    "y=480\n",
    "x1=82\n",
    "x2=148\n",
    "x3=218\n",
    "x4=291"
   ]
  },
  {
   "cell_type": "code",
   "execution_count": 38,
   "id": "b9128a43",
   "metadata": {},
   "outputs": [],
   "source": [
    "time.sleep(3)\n",
    "while not keyboard.is_pressed('space'):\n",
    "    if pyautogui.pixel(x1,y)[0]<10:\n",
    "        pyautogui.click(x1,y)\n",
    "    if pyautogui.pixel(x2,y)[0]<10:\n",
    "        pyautogui.click(x2,y)\n",
    "    if pyautogui.pixel(x3,y)[0]<10:\n",
    "        pyautogui.click(x3,y)\n",
    "    if pyautogui.pixel(x4,y)[0]<10:\n",
    "        pyautogui.click(x4,y)\n",
    "    \n",
    "        \n",
    "    \n",
    "\n",
    "\n",
    "\n",
    "    \n",
    "\n",
    "    \n",
    "   \n",
    "    \n",
    "    "
   ]
  },
  {
   "cell_type": "code",
   "execution_count": null,
   "id": "09f25794",
   "metadata": {},
   "outputs": [],
   "source": []
  },
  {
   "cell_type": "code",
   "execution_count": 39,
   "id": "f61cd3a1",
   "metadata": {},
   "outputs": [
    {
     "data": {
      "text/plain": [
       "0"
      ]
     },
     "execution_count": 39,
     "metadata": {},
     "output_type": "execute_result"
    }
   ],
   "source": [
    "pyautogui.pixel(148,321)[0]"
   ]
  },
  {
   "cell_type": "code",
   "execution_count": 33,
   "id": "83ccc841",
   "metadata": {},
   "outputs": [
    {
     "name": "stdout",
     "output_type": "stream",
     "text": [
      "Press Ctrl-C to quit.\n",
      "xOffset: 148 yOffset: 321\n"
     ]
    },
    {
     "name": "stdout",
     "output_type": "stream",
     "text": [
      "X:  904 Y:  237 RGB: (  0, 136,   X:  904 Y:  237 RGB: (  0, 136,   X:  904 Y:  237 RGB: (  0, 136,   X:  904 Y:  237 RGB: (  0, 136,   X:  904 Y:  237 RGB: (  0, 136,   X:  904 Y:  237 RGB: (  0, 136,   X:  904 Y:  237 RGB: (  0, 136,   X:  904 Y:  237 RGB: (  0, 136,   X:  904 Y:  237 RGB: (  0, 136,   X:  904 Y:  237 RGB: (  0, 136,   X:  904 Y:  237 RGB: (  0, 136,   X:  904 Y:  237 RGB: (  0, 136,   X:  904 Y:  237 RGB: (  0, 136,   X:  904 Y:  237 RGB: (  0, 136,   X:  904 Y:  237 RGB: (  0, 136,   X:  904 Y:  237 RGB: (  0, 136,   X:  904 Y:  237 RGB: (  0, 136,   X:  904 Y:  237 RGB: (  0, 136,   X:  904 Y:  237 RGB: (  0, 136,   X:  904 Y:  237 RGB: (  0, 136,   X:  904 Y:  237 RGB: (  0, 136,   X:  904 Y:  237 RGB: (  0, 136,   X:  904 Y:  237 RGB: (  0, 136,   X:  912 Y:  232 RGB: (160, 150,   X:  921 Y:  228 RGB: (247, 247, 24X:  927 Y:  228 RGB: (247, 247, 24X:  952 Y:  232 RGB: (192, 166,   X:  970 Y:  236 RGB: (247, 247, 24X:  983 Y:  238 RGB: (247, 247, 24X:  996 Y:  238 RGB: (247, 247, 24X: 1000 Y:  238 RGB: (247, 247, 24X: 1001 Y:  238 RGB: (247, 247, 24X: 1001 Y:  238 RGB: (247, 247, 24X: 1002 Y:  238 RGB: (247, 247, 24X: 1002 Y:  238 RGB: (247, 247, 24X: 1002 Y:  238 RGB: (247, 247, 24X: 1002 Y:  238 RGB: (247, 247, 24X: 1002 Y:  238 RGB: (247, 247, 24X: 1002 Y:  238 RGB: (247, 247, 24X: 1002 Y:  238 RGB: (247, 247, 24X: 1002 Y:  238 RGB: (247, 247, 24X: 1002 Y:  238 RGB: (247, 247, 24X: 1002 Y:  238 RGB: (247, 247, 24X: 1002 Y:  238 RGB: (247, 247, 24X: 1002 Y:  238 RGB: (247, 247, 24X: 1002 Y:  238 RGB: (247, 247, 24X: 1002 Y:  238 RGB: (247, 247, 24X: 1002 Y:  238 RGB: (247, 247, 24X: 1002 Y:  238 RGB: (247, 247, 24X: 1002 Y:  238 RGB: (247, 247, 24X: 1002 Y:  238 RGB: (247, 247, 24X: 1002 Y:  238 RGB: (247, 247, 24X: 1002 Y:  238 RGB: (247, 247, 24X: 1002 Y:  238 RGB: (247, 247, 24X: 1002 Y:  238 RGB: (247, 247, 24X: 1002 Y:  238 RGB: (247, 247, 24X: 1002 Y:  238 RGB: (247, 247, 24X: 1002 Y:  238 RGB: (247, 247, 24X: 1002 Y:  238 RGB: (247, 247, 24X: 1002 Y:  238 RGB: (247, 247, 24X: 1002 Y:  238 RGB: (247, 247, 24X: 1002 Y:  238 RGB: (247, 247, 24X: 1002 Y:  238 RGB: (247, 247, 24X: 1002 Y:  238 RGB: (247, 247, 24X: 1002 Y:  238 RGB: (247, 247, 24X: 1002 Y:  238 RGB: (247, 247, 24X: 1002 Y:  238 RGB: (247, 247, 24X: 1002 Y:  238 RGB: (247, 247, 24X: 1002 Y:  238 RGB: (247, 247, 24X: 1002 Y:  238 RGB: (247, 247, 24X: 1002 Y:  238 RGB: (247, 247, 24X: 1002 Y:  238 RGB: (247, 247, 24X: 1002 Y:  238 RGB: (247, 247, 24X: 1002 Y:  238 RGB: (247, 247, 24X: 1002 Y:  238 RGB: (247, 247, 24X: 1002 Y:  238 RGB: (247, 247, 24X: 1002 Y:  238 RGB: (247, 247, 24X: 1002 Y:  238 RGB: (247, 247, 24X: 1002 Y:  238 RGB: (247, 247, 24X: 1002 Y:  238 RGB: (247, 247, 24X: 1002 Y:  238 RGB: (247, 247, 24X:  925 Y:   85 RGB: (255, 255, 25X:  824 Y: -127 RGB: (NaN, NaN, NaX:  824 Y: -127 RGB: (NaN, NaN, NaX:  824 Y: -127 RGB: (NaN, NaN, NaX:  824 Y: -127 RGB: (NaN, NaN, NaX:  824 Y: -127 RGB: (NaN, NaN, NaX:  824 Y: -127 RGB: (NaN, NaN, NaX:  824 Y: -127 RGB: (NaN, NaN, NaX:  824 Y: -127 RGB: (NaN, NaN, NaX:  824 Y: -127 RGB: (NaN, NaN, NaX:  824 Y: -127 RGB: (NaN, NaN, NaX:  817 Y: -138 RGB: (NaN, NaN, NaX:  817 Y: -138 RGB: (NaN, NaN, NaX:  817 Y: -138 RGB: (NaN, NaN, NaX:  817 Y: -138 RGB: (NaN, NaN, NaX:  817 Y: -138 RGB: (NaN, NaN, NaX:  817 Y: -138 RGB: (NaN, NaN, NaX:  817 Y: -138 RGB: (NaN, NaN, NaX:  817 Y: -138 RGB: (NaN, NaN, NaX:  817 Y: -138 RGB: (NaN, NaN, NaX:  817 Y: -138 RGB: (NaN, NaN, NaX:  813 Y: -144 RGB: (NaN, NaN, NaX:  813 Y: -144 RGB: (NaN, NaN, NaX:  813 Y: -144 RGB: (NaN, NaN, NaX:  813 Y: -144 RGB: (NaN, NaN, NaX:  813 Y: -144 RGB: (NaN, NaN, NaX:  813 Y: -144 RGB: (NaN, NaN, NaX:  813 Y: -144 RGB: (NaN, NaN, NaX:  813 Y: -144 RGB: (NaN, NaN, NaX:  813 Y: -144 RGB: (NaN, NaN, NaX:  813 Y: -144 RGB: (NaN, NaN, NaX:  813 Y: -144 RGB: (NaN, NaN, NaX:  813 Y: -144 RGB: (NaN, NaN, NaX:  811 Y: -146 RGB: (NaN, NaN, NaX:  811 Y: -146 RGB: (NaN, NaN, NaX:  811 Y: -146 RGB: (NaN, NaN, NaX:  811 Y: -146 RGB: (NaN, NaN, NaX:  811 Y: -146 RGB: (NaN, NaN, NaX:  811 Y: -146 RGB: (NaN, NaN, NaX:  811 Y: -146 RGB: (NaN, NaN, NaX:  811 Y: -146 RGB: (NaN, NaN, NaX:  811 Y: -147 RGB: (NaN, NaN, NaX:  811 Y: -147 RGB: (NaN, NaN, NaX:  811 Y: -147 RGB: (NaN, NaN, NaX:  811 Y: -147 RGB: (NaN, NaN, NaX:  811 Y: -147 RGB: (NaN, NaN, NaX:  811 Y: -147 RGB: (NaN, NaN, NaX:  811 Y: -147 RGB: (NaN, NaN, NaX:  811 Y: -147 RGB: (NaN, NaN, NaX:  811 Y: -147 RGB: (NaN, NaN, NaX:  811 Y: -147 RGB: (NaN, NaN, NaX:  811 Y: -147 RGB: (NaN, NaN, NaX:  811 Y: -147 RGB: (NaN, NaN, NaX:  811 Y: -147 RGB: (NaN, NaN, NaX:  811 Y: -147 RGB: (NaN, NaN, NaX:  811 Y: -147 RGB: (NaN, NaN, NaX:  811 Y: -147 RGB: (NaN, NaN, NaX:  810 Y: -147 RGB: (NaN, NaN, NaX:  810 Y: -147 RGB: (NaN, NaN, NaX:  810 Y: -147 RGB: (NaN, NaN, NaX:  810 Y: -147 RGB: (NaN, NaN, NaX:  810 Y: -147 RGB: (NaN, NaN, NaX:  810 Y: -147 RGB: (NaN, NaN, NaX:  810 Y: -147 RGB: (NaN, NaN, NaX:  810 Y: -147 RGB: (NaN, NaN, NaX:  810 Y: -147 RGB: (NaN, NaN, NaX:  810 Y: -147 RGB: (NaN, NaN, NaX:  810 Y: -147 RGB: (NaN, NaN, NaX:  810 Y: -147 RGB: (NaN, NaN, NaX:  810 Y: -147 RGB: (NaN, NaN, NaX:  810 Y: -147 RGB: (NaN, NaN, NaX:  810 Y: -147 RGB: (NaN, NaN, NaX:  810 Y: -147 RGB: (NaN, NaN, NaX:  810 Y: -147 RGB: (NaN, NaN, NaX:  810 Y: -147 RGB: (NaN, NaN, NaX:  810 Y: -147 RGB: (NaN, NaN, NaX:  810 Y: -147 RGB: (NaN, NaN, NaX:  810 Y: -147 RGB: (NaN, NaN, NaX:  810 Y: -147 RGB: (NaN, NaN, NaX:  810 Y: -147 RGB: (NaN, NaN, NaX:  810 Y: -147 RGB: (NaN, NaN, NaX:  810 Y: -147 RGB: (NaN, NaN, NaX:  810 Y: -147 RGB: (NaN, NaN, NaX:  810 Y: -147 RGB: (NaN, NaN, NaX:  810 Y: -147 RGB: (NaN, NaN, NaX:  810 Y: -147 RGB: (NaN, NaN, NaX:  810 Y: -147 RGB: (NaN, NaN, NaX:  810 Y: -147 RGB: (NaN, NaN, NaX:  810 Y: -147 RGB: (NaN, NaN, NaX:  810 Y: -147 RGB: (NaN, NaN, NaX:  810 Y: -147 RGB: (NaN, NaN, NaX:  810 Y: -147 RGB: (NaN, NaN, NaX:  810 Y: -147 RGB: (NaN, NaN, NaX:  810 Y: -147 RGB: (NaN, NaN, NaX:  810 Y: -147 RGB: (NaN, NaN, NaX:  810 Y: -147 RGB: (NaN, NaN, NaX:  810 Y: -147 RGB: (NaN, NaN, NaX:  810 Y: -147 RGB: (NaN, NaN, NaX:  810 Y: -147 RGB: (NaN, NaN, NaX:  810 Y: -147 RGB: (NaN, NaN, NaX:  810 Y: -147 RGB: (NaN, NaN, NaX:  810 Y: -147 RGB: (NaN, NaN, NaX:  810 Y: -147 RGB: (NaN, NaN, NaX:  810 Y: -147 RGB: (NaN, NaN, NaX:  810 Y: -147 RGB: (NaN, NaN, NaX:  810 Y: -147 RGB: (NaN, NaN, NaX:  810 Y: -147 RGB: (NaN, NaN, NaX:  810 Y: -147 RGB: (NaN, NaN, NaX:  810 Y: -147 RGB: (NaN, NaN, NaX:  810 Y: -147 RGB: (NaN, NaN, NaX:  810 Y: -147 RGB: (NaN, NaN, NaX:  810 Y: -147 RGB: (NaN, NaN, NaX:  810 Y: -147 RGB: (NaN, NaN, NaX:  810 Y: -147 RGB: (NaN, NaN, NaX:  810 Y: -147 RGB: (NaN, NaN, NaX:  810 Y: -147 RGB: (NaN, NaN, NaX:  810 Y: -147 RGB: (NaN, NaN, NaX:  810 Y: -147 RGB: (NaN, NaN, NaX:  810 Y: -147 RGB: (NaN, NaN, NaX:  810 Y: -147 RGB: (NaN, NaN, NaX:  810 Y: -147 RGB: (NaN, NaN, NaX:  810 Y: -147 RGB: (NaN, NaN, NaX:  810 Y: -147 RGB: (NaN, NaN, NaX:  810 Y: -147 RGB: (NaN, NaN, NaX:  810 Y: -147 RGB: (NaN, NaN, NaX:  810 Y: -147 RGB: (NaN, NaN, NaX:  810 Y: -147 RGB: (NaN, NaN, NaX:  810 Y: -147 RGB: (NaN, NaN, NaX:  810 Y: -147 RGB: (NaN, NaN, NaX:  810 Y: -147 RGB: (NaN, NaN, NaX:  810 Y: -147 RGB: (NaN, NaN, NaX:  810 Y: -147 RGB: (NaN, NaN, NaX:  810 Y: -147 RGB: (NaN, NaN, NaX:  810 Y: -147 RGB: (NaN, NaN, NaX:  810 Y: -147 RGB: (NaN, NaN, NaX:  810 Y: -147 RGB: (NaN, NaN, NaX:  810 Y: -147 RGB: (NaN, NaN, NaX:  810 Y: -147 RGB: (NaN, NaN, NaX:  810 Y: -147 RGB: (NaN, NaN, NaX:  810 Y: -147 RGB: (NaN, NaN, NaX:  810 Y: -147 RGB: (NaN, NaN, NaX:  810 Y: -147 RGB: (NaN, NaN, NaX:  810 Y: -147 RGB: (NaN, NaN, NaX:  810 Y: -147 RGB: (NaN, NaN, NaX:  810 Y: -147 RGB: (NaN, NaN, NaX:  810 Y: -147 RGB: (NaN, NaN, NaX:  810 Y: -147 RGB: (NaN, NaN, NaX:  810 Y: -147 RGB: (NaN, NaN, NaX:  810 Y: -147 RGB: (NaN, NaN, NaX:  810 Y: -147 RGB: (NaN, NaN, NaX:  810 Y: -147 RGB: (NaN, NaN, NaX:  810 Y: -147 RGB: (NaN, NaN, NaX:  810 Y: -147 RGB: (NaN, NaN, NaX:  810 Y: -147 RGB: (NaN, NaN, NaX:  810 Y: -147 RGB: (NaN, NaN, NaX:  810 Y: -147 RGB: (NaN, NaN, NaX:  810 Y: -147 RGB: (NaN, NaN, NaX:  810 Y: -147 RGB: (NaN, NaN, NaX:  810 Y: -147 RGB: (NaN, NaN, NaX:  810 Y: -147 RGB: (NaN, NaN, NaX:  810 Y: -147 RGB: (NaN, NaN, NaX:  810 Y: -147 RGB: (NaN, NaN, NaX:  810 Y: -147 RGB: (NaN, NaN, NaX:  810 Y: -147 RGB: (NaN, NaN, NaX:  810 Y: -147 RGB: (NaN, NaN, NaX:  810 Y: -147 RGB: (NaN, NaN, NaX:  810 Y: -147 RGB: (NaN, NaN, NaX:  810 Y: -147 RGB: (NaN, NaN, NaX:  810 Y: -147 RGB: (NaN, NaN, NaX:  810 Y: -147 RGB: (NaN, NaN, NaX:  810 Y: -147 RGB: (NaN, NaN, NaX:  810 Y: -147 RGB: (NaN, NaN, NaX:  810 Y: -147 RGB: (NaN, NaN, NaX:  810 Y: -147 RGB: (NaN, NaN, NaX:  810 Y: -147 RGB: (NaN, NaN, NaX:  810 Y: -147 RGB: (NaN, NaN, NaX:  810 Y: -147 RGB: (NaN, NaN, NaX:  810 Y: -147 RGB: (NaN, NaN, NaX:  810 Y: -147 RGB: (NaN, NaN, NaX:  810 Y: -147 RGB: (NaN, NaN, NaX:  810 Y: -147 RGB: (NaN, NaN, NaX:  810 Y: -147 RGB: (NaN, NaN, NaX:  810 Y: -147 RGB: (NaN, NaN, NaX:  810 Y: -147 RGB: (NaN, NaN, NaX:  810 Y: -147 RGB: (NaN, NaN, NaX:  810 Y: -147 RGB: (NaN, NaN, NaX:  810 Y: -147 RGB: (NaN, NaN, NaX:  810 Y: -147 RGB: (NaN, NaN, NaX:  810 Y: -147 RGB: (NaN, NaN, NaX:  810 Y: -147 RGB: (NaN, NaN, NaX:  810 Y: -147 RGB: (NaN, NaN, NaX:  810 Y: -147 RGB: (NaN, NaN, NaX:  810 Y: -147 RGB: (NaN, NaN, NaX:  810 Y: -147 RGB: (NaN, NaN, NaX:  810 Y: -147 RGB: (NaN, NaN, NaX:  810 Y: -147 RGB: (NaN, NaN, NaX:  810 Y: -147 RGB: (NaN, NaN, NaX:  810 Y: -147 RGB: (NaN, NaN, NaX:  810 Y: -147 RGB: (NaN, NaN, NaX:  810 Y: -147 RGB: (NaN, NaN, NaX:  810 Y: -147 RGB: (NaN, NaN, NaX:  810 Y: -147 RGB: (NaN, NaN, NaX:  810 Y: -147 RGB: (NaN, NaN, NaX:  810 Y: -147 RGB: (NaN, NaN, NaX:  810 Y: -147 RGB: (NaN, NaN, NaX:  810 Y: -147 RGB: (NaN, NaN, NaX:  810 Y: -147 RGB: (NaN, NaN, NaX:  810 Y: -147 RGB: (NaN, NaN, NaX:  810 Y: -147 RGB: (NaN, NaN, NaX:  810 Y: -147 RGB: (NaN, NaN, NaX:  810 Y: -147 RGB: (NaN, NaN, NaX:  810 Y: -147 RGB: (NaN, NaN, NaX:  810 Y: -147 RGB: (NaN, NaN, NaX:  810 Y: -147 RGB: (NaN, NaN, NaX:  810 Y: -147 RGB: (NaN, NaN, NaX:  810 Y: -147 RGB: (NaN, NaN, NaX:  810 Y: -147 RGB: (NaN, NaN, NaX:  810 Y: -147 RGB: (NaN, NaN, NaX:  810 Y: -147 RGB: (NaN, NaN, NaX:  810 Y: -147 RGB: (NaN, NaN, NaX:  810 Y: -147 RGB: (NaN, NaN, NaX:  810 Y: -147 RGB: (NaN, NaN, NaX:  810 Y: -147 RGB: (NaN, NaN, NaX:  810 Y: -147 RGB: (NaN, NaN, NaX:  810 Y: -147 RGB: (NaN, NaN, NaX:  810 Y: -147 RGB: (NaN, NaN, NaX:  810 Y: -147 RGB: (NaN, NaN, NaX:  810 Y: -147 RGB: (NaN, NaN, NaX:  810 Y: -147 RGB: (NaN, NaN, NaX:  810 Y: -147 RGB: (NaN, NaN, NaX:  810 Y: -147 RGB: (NaN, NaN, NaX:  810 Y: -147 RGB: (NaN, NaN, NaX:  810 Y: -147 RGB: (NaN, NaN, NaX:  810 Y: -147 RGB: (NaN, NaN, NaX:  810 Y: -147 RGB: (NaN, NaN, NaX:  810 Y: -147 RGB: (NaN, NaN, NaX:  810 Y: -147 RGB: (NaN, NaN, NaX:  810 Y: -147 RGB: (NaN, NaN, NaX:  810 Y: -147 RGB: (NaN, NaN, NaX:  810 Y: -147 RGB: (NaN, NaN, NaX:  810 Y: -147 RGB: (NaN, NaN, NaX:  810 Y: -147 RGB: (NaN, NaN, NaX:  810 Y: -147 RGB: (NaN, NaN, NaX:  810 Y: -147 RGB: (NaN, NaN, NaX:  810 Y: -147 RGB: (NaN, NaN, NaX:  810 Y: -147 RGB: (NaN, NaN, NaX:  810 Y: -147 RGB: (NaN, NaN, NaX:  810 Y: -147 RGB: (NaN, NaN, NaX:  810 Y: -147 RGB: (NaN, NaN, NaX:  810 Y: -147 RGB: (NaN, NaN, NaX:  810 Y: -147 RGB: (NaN, NaN, NaX:  810 Y: -147 RGB: (NaN, NaN, NaX:  810 Y: -147 RGB: (NaN, NaN, NaX:  810 Y: -147 RGB: (NaN, NaN, NaX:  810 Y: -147 RGB: (NaN, NaN, NaX:  810 Y: -147 RGB: (NaN, NaN, NaX:  810 Y: -147 RGB: (NaN, NaN, NaX:  810 Y: -147 RGB: (NaN, NaN, NaX:  810 Y: -147 RGB: (NaN, NaN, NaX:  810 Y: -147 RGB: (NaN, NaN, NaX:  810 Y: -147 RGB: (NaN, NaN, NaX:  810 Y: -147 RGB: (NaN, NaN, NaX:  810 Y: -147 RGB: (NaN, NaN, NaX:  810 Y: -147 RGB: (NaN, NaN, NaX:  810 Y: -147 RGB: (NaN, NaN, NaX:  810 Y: -147 RGB: (NaN, NaN, NaX:  810 Y: -147 RGB: (NaN, NaN, NaX:  810 Y: -147 RGB: (NaN, NaN, NaX:  810 Y: -147 RGB: (NaN, NaN, NaX:  810 Y: -147 RGB: (NaN, NaN, NaX:  810 Y: -147 RGB: (NaN, NaN, NaX:  810 Y: -147 RGB: (NaN, NaN, NaX:  810 Y: -147 RGB: (NaN, NaN, NaX:  810 Y: -147 RGB: (NaN, NaN, NaX:  810 Y: -147 RGB: (NaN, NaN, NaX:  810 Y: -147 RGB: (NaN, NaN, NaX:  810 Y: -147 RGB: (NaN, NaN, NaX:  810 Y: -147 RGB: (NaN, NaN, NaX:  810 Y: -147 RGB: (NaN, NaN, NaX:  810 Y: -147 RGB: (NaN, NaN, NaX:  810 Y: -147 RGB: (NaN, NaN, NaX:  810 Y: -147 RGB: (NaN, NaN, NaX:  810 Y: -147 RGB: (NaN, NaN, NaX:  810 Y: -147 RGB: (NaN, NaN, NaX:  810 Y: -147 RGB: (NaN, NaN, NaX:  810 Y: -147 RGB: (NaN, NaN, NaX:  810 Y: -147 RGB: (NaN, NaN, NaX:  810 Y: -147 RGB: (NaN, NaN, NaX:  810 Y: -147 RGB: (NaN, NaN, NaX:  810 Y: -147 RGB: (NaN, NaN, NaX:  810 Y: -147 RGB: (NaN, NaN, NaX:  810 Y: -147 RGB: (NaN, NaN, NaX:  810 Y: -147 RGB: (NaN, NaN, NaX:  810 Y: -147 RGB: (NaN, NaN, NaX:  810 Y: -147 RGB: (NaN, NaN, NaX:  810 Y: -147 RGB: (NaN, NaN, NaX:  810 Y: -147 RGB: (NaN, NaN, NaX:  810 Y: -147 RGB: (NaN, NaN, NaX:  810 Y: -147 RGB: (NaN, NaN, NaX:  810 Y: -147 RGB: (NaN, NaN, NaX:  810 Y: -147 RGB: (NaN, NaN, NaX:  810 Y: -147 RGB: (NaN, NaN, NaX:  810 Y: -147 RGB: (NaN, NaN, NaX:  810 Y: -147 RGB: (NaN, NaN, NaX:  810 Y: -147 RGB: (NaN, NaN, NaX:  810 Y: -147 RGB: (NaN, NaN, NaX:  810 Y: -147 RGB: (NaN, NaN, NaX:  810 Y: -147 RGB: (NaN, NaN, NaX:  810 Y: -147 RGB: (NaN, NaN, NaX:  810 Y: -147 RGB: (NaN, NaN, NaX:  810 Y: -147 RGB: (NaN, NaN, NaX:  810 Y: -147 RGB: (NaN, NaN, NaX:  810 Y: -147 RGB: (NaN, NaN, NaX:  810 Y: -147 RGB: (NaN, NaN, NaX:  810 Y: -147 RGB: (NaN, NaN, NaX:  810 Y: -147 RGB: (NaN, NaN, NaX:  810 Y: -147 RGB: (NaN, NaN, NaX:  810 Y: -147 RGB: (NaN, NaN, NaX:  810 Y: -147 RGB: (NaN, NaN, NaX:  810 Y: -147 RGB: (NaN, NaN, NaX:  810 Y: -147 RGB: (NaN, NaN, NaX:  810 Y: -147 RGB: (NaN, NaN, NaX:  810 Y: -147 RGB: (NaN, NaN, NaX:  810 Y: -147 RGB: (NaN, NaN, NaX:  810 Y: -147 RGB: (NaN, NaN, NaX:  810 Y: -147 RGB: (NaN, NaN, NaX:  810 Y: -147 RGB: (NaN, NaN, NaX:  810 Y: -147 RGB: (NaN, NaN, NaX:  810 Y: -147 RGB: (NaN, NaN, NaX:  810 Y: -147 RGB: (NaN, NaN, NaX:  810 Y: -147 RGB: (NaN, NaN, NaX:  810 Y: -147 RGB: (NaN, NaN, NaX:  810 Y: -147 RGB: (NaN, NaN, NaX:  810 Y: -147 RGB: (NaN, NaN, NaX:  810 Y: -147 RGB: (NaN, NaN, NaX:  810 Y: -147 RGB: (NaN, NaN, NaX:  810 Y: -147 RGB: (NaN, NaN, NaX:  810 Y: -147 RGB: (NaN, NaN, NaX:  810 Y: -147 RGB: (NaN, NaN, NaX:  810 Y: -147 RGB: (NaN, NaN, NaX:  810 Y: -147 RGB: (NaN, NaN, NaX:  810 Y: -147 RGB: (NaN, NaN, NaX:  810 Y: -147 RGB: (NaN, NaN, NaX:  810 Y: -147 RGB: (NaN, NaN, NaX:  810 Y: -147 RGB: (NaN, NaN, NaX:  810 Y: -147 RGB: (NaN, NaN, NaX:  810 Y: -147 RGB: (NaN, NaN, NaX:  810 Y: -147 RGB: (NaN, NaN, NaX:  810 Y: -147 RGB: (NaN, NaN, NaX:  810 Y: -147 RGB: (NaN, NaN, NaX:  810 Y: -147 RGB: (NaN, NaN, NaX:  810 Y: -147 RGB: (NaN, NaN, NaX:  810 Y: -147 RGB: (NaN, NaN, NaX:  810 Y: -147 RGB: (NaN, NaN, NaX:  810 Y: -147 RGB: (NaN, NaN, NaX:  810 Y: -147 RGB: (NaN, NaN, NaX:  810 Y: -147 RGB: (NaN, NaN, NaX:  810 Y: -147 RGB: (NaN, NaN, NaX:  810 Y: -147 RGB: (NaN, NaN, NaX:  810 Y: -147 RGB: (NaN, NaN, NaX:  810 Y: -147 RGB: (NaN, NaN, NaX:  810 Y: -147 RGB: (NaN, NaN, NaX:  810 Y: -147 RGB: (NaN, NaN, NaX:  810 Y: -147 RGB: (NaN, NaN, NaX:  810 Y: -147 RGB: (NaN, NaN, NaX:  810 Y: -147 RGB: (NaN, NaN, NaX:  810 Y: -147 RGB: (NaN, NaN, NaX:  810 Y: -147 RGB: (NaN, NaN, NaX:  810 Y: -147 RGB: (NaN, NaN, NaX:  810 Y: -147 RGB: (NaN, NaN, NaX:  810 Y: -147 RGB: (NaN, NaN, NaX:  809 Y: -147 RGB: (NaN, NaN, NaX:  809 Y: -147 RGB: (NaN, NaN, NaX:  809 Y: -147 RGB: (NaN, NaN, NaX:  809 Y: -147 RGB: (NaN, NaN, NaX:  809 Y: -147 RGB: (NaN, NaN, NaX:  809 Y: -147 RGB: (NaN, NaN, NaX:  809 Y: -147 RGB: (NaN, NaN, NaX:  809 Y: -147 RGB: (NaN, NaN, NaX:  809 Y: -147 RGB: (NaN, NaN, NaX:  809 Y: -147 RGB: (NaN, NaN, NaX:  809 Y: -147 RGB: (NaN, NaN, NaX:  809 Y: -147 RGB: (NaN, NaN, NaX:  809 Y: -147 RGB: (NaN, NaN, NaX:  809 Y: -147 RGB: (NaN, NaN, NaX:  807 Y: -145 RGB: (NaN, NaN, NaX:  807 Y: -145 RGB: (NaN, NaN, NaX:  807 Y: -145 RGB: (NaN, NaN, NaX:  807 Y: -145 RGB: (NaN, NaN, NaX:  807 Y: -145 RGB: (NaN, NaN, NaX:  807 Y: -145 RGB: (NaN, NaN, NaX:  807 Y: -145 RGB: (NaN, NaN, NaX:  807 Y: -145 RGB: (NaN, NaN, NaX:  807 Y: -145 RGB: (NaN, NaN, NaX:  807 Y: -145 RGB: (NaN, NaN, NaX:  807 Y: -145 RGB: (NaN, NaN, NaX:  807 Y: -145 RGB: (NaN, NaN, NaX:  807 Y: -145 RGB: (NaN, NaN, NaX:  806 Y: -142 RGB: (NaN, NaN, NaX:  806 Y: -142 RGB: (NaN, NaN, NaX:  806 Y: -142 RGB: (NaN, NaN, Na"
     ]
    },
    {
     "name": "stdout",
     "output_type": "stream",
     "text": [
      "X:  806 Y: -142 RGB: (NaN, NaN, NaX:  806 Y: -142 RGB: (NaN, NaN, NaX:  806 Y: -142 RGB: (NaN, NaN, NaX:  806 Y: -142 RGB: (NaN, NaN, NaX:  806 Y: -142 RGB: (NaN, NaN, NaX:  806 Y: -142 RGB: (NaN, NaN, NaX:  806 Y: -142 RGB: (NaN, NaN, NaX:  806 Y: -142 RGB: (NaN, NaN, NaX:  806 Y: -138 RGB: (NaN, NaN, NaX:  806 Y: -138 RGB: (NaN, NaN, NaX:  806 Y: -138 RGB: (NaN, NaN, NaX:  806 Y: -138 RGB: (NaN, NaN, NaX:  806 Y: -138 RGB: (NaN, NaN, NaX:  806 Y: -138 RGB: (NaN, NaN, NaX:  806 Y: -138 RGB: (NaN, NaN, NaX:  806 Y: -138 RGB: (NaN, NaN, NaX:  806 Y: -138 RGB: (NaN, NaN, NaX:  806 Y: -138 RGB: (NaN, NaN, NaX:  806 Y: -138 RGB: (NaN, NaN, NaX:  806 Y: -138 RGB: (NaN, NaN, NaX:  806 Y: -138 RGB: (NaN, NaN, NaX:  806 Y: -134 RGB: (NaN, NaN, NaX:  806 Y: -134 RGB: (NaN, NaN, NaX:  806 Y: -134 RGB: (NaN, NaN, NaX:  806 Y: -134 RGB: (NaN, NaN, NaX:  806 Y: -134 RGB: (NaN, NaN, NaX:  806 Y: -134 RGB: (NaN, NaN, NaX:  806 Y: -134 RGB: (NaN, NaN, NaX:  806 Y: -134 RGB: (NaN, NaN, NaX:  806 Y: -134 RGB: (NaN, NaN, NaX:  806 Y: -134 RGB: (NaN, NaN, NaX:  806 Y: -134 RGB: (NaN, NaN, NaX:  806 Y: -134 RGB: (NaN, NaN, NaX:  806 Y: -134 RGB: (NaN, NaN, NaX:  806 Y: -134 RGB: (NaN, NaN, NaX:  806 Y: -134 RGB: (NaN, NaN, NaX:  806 Y: -129 RGB: (NaN, NaN, NaX:  806 Y: -129 RGB: (NaN, NaN, NaX:  806 Y: -129 RGB: (NaN, NaN, NaX:  806 Y: -129 RGB: (NaN, NaN, NaX:  806 Y: -129 RGB: (NaN, NaN, NaX:  806 Y: -129 RGB: (NaN, NaN, NaX:  806 Y: -129 RGB: (NaN, NaN, NaX:  806 Y: -129 RGB: (NaN, NaN, NaX:  806 Y: -129 RGB: (NaN, NaN, NaX:  806 Y: -129 RGB: (NaN, NaN, NaX:  808 Y: -125 RGB: (NaN, NaN, NaX:  808 Y: -125 RGB: (NaN, NaN, NaX:  808 Y: -125 RGB: (NaN, NaN, NaX:  808 Y: -125 RGB: (NaN, NaN, NaX:  808 Y: -125 RGB: (NaN, NaN, NaX:  808 Y: -125 RGB: (NaN, NaN, NaX:  808 Y: -125 RGB: (NaN, NaN, NaX:  808 Y: -125 RGB: (NaN, NaN, NaX:  808 Y: -125 RGB: (NaN, NaN, NaX:  808 Y: -125 RGB: (NaN, NaN, NaX:  808 Y: -125 RGB: (NaN, NaN, NaX:  811 Y: -122 RGB: (NaN, NaN, NaX:  811 Y: -122 RGB: (NaN, NaN, NaX:  811 Y: -122 RGB: (NaN, NaN, NaX:  811 Y: -122 RGB: (NaN, NaN, NaX:  811 Y: -122 RGB: (NaN, NaN, NaX:  811 Y: -122 RGB: (NaN, NaN, NaX:  811 Y: -122 RGB: (NaN, NaN, NaX:  811 Y: -122 RGB: (NaN, NaN, NaX:  811 Y: -122 RGB: (NaN, NaN, NaX:  811 Y: -122 RGB: (NaN, NaN, NaX:  811 Y: -122 RGB: (NaN, NaN, NaX:  811 Y: -122 RGB: (NaN, NaN, NaX:  812 Y: -121 RGB: (NaN, NaN, NaX:  812 Y: -121 RGB: (NaN, NaN, NaX:  812 Y: -121 RGB: (NaN, NaN, NaX:  812 Y: -121 RGB: (NaN, NaN, NaX:  812 Y: -121 RGB: (NaN, NaN, NaX:  812 Y: -121 RGB: (NaN, NaN, NaX:  812 Y: -121 RGB: (NaN, NaN, NaX:  812 Y: -121 RGB: (NaN, NaN, NaX:  812 Y: -121 RGB: (NaN, NaN, NaX:  812 Y: -121 RGB: (NaN, NaN, NaX:  812 Y: -121 RGB: (NaN, NaN, NaX:  812 Y: -121 RGB: (NaN, NaN, NaX:  813 Y: -120 RGB: (NaN, NaN, NaX:  813 Y: -120 RGB: (NaN, NaN, NaX:  813 Y: -120 RGB: (NaN, NaN, NaX:  813 Y: -120 RGB: (NaN, NaN, NaX:  813 Y: -120 RGB: (NaN, NaN, NaX:  813 Y: -120 RGB: (NaN, NaN, NaX:  813 Y: -120 RGB: (NaN, NaN, NaX:  813 Y: -120 RGB: (NaN, NaN, NaX:  813 Y: -120 RGB: (NaN, NaN, NaX:  815 Y: -119 RGB: (NaN, NaN, NaX:  815 Y: -119 RGB: (NaN, NaN, NaX:  815 Y: -119 RGB: (NaN, NaN, NaX:  815 Y: -119 RGB: (NaN, NaN, NaX:  815 Y: -119 RGB: (NaN, NaN, NaX:  815 Y: -119 RGB: (NaN, NaN, NaX:  815 Y: -119 RGB: (NaN, NaN, NaX:  815 Y: -119 RGB: (NaN, NaN, NaX:  815 Y: -119 RGB: (NaN, NaN, NaX:  815 Y: -119 RGB: (NaN, NaN, NaX:  815 Y: -119 RGB: (NaN, NaN, NaX:  815 Y: -119 RGB: (NaN, NaN, NaX:  816 Y: -119 RGB: (NaN, NaN, NaX:  816 Y: -119 RGB: (NaN, NaN, NaX:  816 Y: -119 RGB: (NaN, NaN, NaX:  816 Y: -119 RGB: (NaN, NaN, NaX:  816 Y: -119 RGB: (NaN, NaN, NaX:  816 Y: -119 RGB: (NaN, NaN, NaX:  816 Y: -119 RGB: (NaN, NaN, NaX:  816 Y: -119 RGB: (NaN, NaN, NaX:  816 Y: -119 RGB: (NaN, NaN, NaX:  816 Y: -119 RGB: (NaN, NaN, NaX:  817 Y: -118 RGB: (NaN, NaN, NaX:  817 Y: -118 RGB: (NaN, NaN, NaX:  817 Y: -118 RGB: (NaN, NaN, NaX:  817 Y: -118 RGB: (NaN, NaN, NaX:  820 Y: -117 RGB: (NaN, NaN, NaX:  821 Y: -117 RGB: (NaN, NaN, NaX:  821 Y: -117 RGB: (NaN, NaN, NaX:  821 Y: -117 RGB: (NaN, NaN, NaX:  821 Y: -117 RGB: (NaN, NaN, NaX:  821 Y: -117 RGB: (NaN, NaN, NaX:  821 Y: -117 RGB: (NaN, NaN, NaX:  821 Y: -117 RGB: (NaN, NaN, NaX:  821 Y: -117 RGB: (NaN, NaN, NaX:  821 Y: -117 RGB: (NaN, NaN, NaX:  821 Y: -117 RGB: (NaN, NaN, NaX:  822 Y: -117 RGB: (NaN, NaN, NaX:  822 Y: -117 RGB: (NaN, NaN, NaX:  822 Y: -117 RGB: (NaN, NaN, NaX:  822 Y: -117 RGB: (NaN, NaN, NaX:  822 Y: -117 RGB: (NaN, NaN, NaX:  822 Y: -117 RGB: (NaN, NaN, NaX:  822 Y: -117 RGB: (NaN, NaN, NaX:  822 Y: -117 RGB: (NaN, NaN, NaX:  822 Y: -117 RGB: (NaN, NaN, NaX:  822 Y: -117 RGB: (NaN, NaN, NaX:  822 Y: -117 RGB: (NaN, NaN, NaX:  823 Y: -116 RGB: (NaN, NaN, NaX:  823 Y: -116 RGB: (NaN, NaN, NaX:  823 Y: -116 RGB: (NaN, NaN, NaX:  823 Y: -116 RGB: (NaN, NaN, NaX:  823 Y: -116 RGB: (NaN, NaN, NaX:  823 Y: -116 RGB: (NaN, NaN, NaX:  823 Y: -116 RGB: (NaN, NaN, NaX:  823 Y: -116 RGB: (NaN, NaN, NaX:  823 Y: -116 RGB: (NaN, NaN, NaX:  823 Y: -116 RGB: (NaN, NaN, NaX:  823 Y: -116 RGB: (NaN, NaN, NaX:  823 Y: -116 RGB: (NaN, NaN, NaX:  823 Y: -116 RGB: (NaN, NaN, NaX:  823 Y: -116 RGB: (NaN, NaN, NaX:  823 Y: -116 RGB: (NaN, NaN, NaX:  823 Y: -116 RGB: (NaN, NaN, NaX:  823 Y: -116 RGB: (NaN, NaN, NaX:  823 Y: -116 RGB: (NaN, NaN, NaX:  823 Y: -116 RGB: (NaN, NaN, NaX:  823 Y: -116 RGB: (NaN, NaN, NaX:  823 Y: -116 RGB: (NaN, NaN, NaX:  824 Y: -116 RGB: (NaN, NaN, NaX:  824 Y: -116 RGB: (NaN, NaN, NaX:  824 Y: -116 RGB: (NaN, NaN, NaX:  824 Y: -116 RGB: (NaN, NaN, NaX:  824 Y: -116 RGB: (NaN, NaN, NaX:  824 Y: -116 RGB: (NaN, NaN, NaX:  824 Y: -116 RGB: (NaN, NaN, NaX:  824 Y: -116 RGB: (NaN, NaN, NaX:  824 Y: -116 RGB: (NaN, NaN, NaX:  824 Y: -116 RGB: (NaN, NaN, NaX:  824 Y: -116 RGB: (NaN, NaN, NaX:  824 Y: -116 RGB: (NaN, NaN, NaX:  824 Y: -116 RGB: (NaN, NaN, NaX:  824 Y: -116 RGB: (NaN, NaN, NaX:  824 Y: -116 RGB: (NaN, NaN, NaX:  824 Y: -116 RGB: (NaN, NaN, NaX:  824 Y: -116 RGB: (NaN, NaN, NaX:  824 Y: -116 RGB: (NaN, NaN, NaX:  824 Y: -116 RGB: (NaN, NaN, NaX:  824 Y: -116 RGB: (NaN, NaN, NaX:  824 Y: -116 RGB: (NaN, NaN, NaX:  824 Y: -116 RGB: (NaN, NaN, NaX:  824 Y: -116 RGB: (NaN, NaN, NaX:  824 Y: -116 RGB: (NaN, NaN, NaX:  824 Y: -116 RGB: (NaN, NaN, NaX:  824 Y: -116 RGB: (NaN, NaN, NaX:  824 Y: -116 RGB: (NaN, NaN, NaX:  824 Y: -116 RGB: (NaN, NaN, NaX:  824 Y: -116 RGB: (NaN, NaN, NaX:  824 Y: -116 RGB: (NaN, NaN, NaX:  824 Y: -116 RGB: (NaN, NaN, NaX:  824 Y: -116 RGB: (NaN, NaN, NaX:  824 Y: -116 RGB: (NaN, NaN, NaX:  824 Y: -116 RGB: (NaN, NaN, NaX:  824 Y: -116 RGB: (NaN, NaN, NaX:  824 Y: -116 RGB: (NaN, NaN, NaX:  825 Y: -116 RGB: (NaN, NaN, NaX:  825 Y: -116 RGB: (NaN, NaN, NaX:  825 Y: -116 RGB: (NaN, NaN, NaX:  825 Y: -116 RGB: (NaN, NaN, NaX:  825 Y: -116 RGB: (NaN, NaN, NaX:  825 Y: -116 RGB: (NaN, NaN, NaX:  825 Y: -116 RGB: (NaN, NaN, NaX:  825 Y: -116 RGB: (NaN, NaN, NaX:  825 Y: -116 RGB: (NaN, NaN, NaX:  825 Y: -116 RGB: (NaN, NaN, NaX:  825 Y: -116 RGB: (NaN, NaN, NaX:  825 Y: -116 RGB: (NaN, NaN, NaX:  825 Y: -116 RGB: (NaN, NaN, NaX:  825 Y: -116 RGB: (NaN, NaN, NaX:  825 Y: -116 RGB: (NaN, NaN, NaX:  825 Y: -116 RGB: (NaN, NaN, NaX:  825 Y: -116 RGB: (NaN, NaN, NaX:  825 Y: -116 RGB: (NaN, NaN, NaX:  825 Y: -116 RGB: (NaN, NaN, NaX:  825 Y: -116 RGB: (NaN, NaN, NaX:  825 Y: -116 RGB: (NaN, NaN, NaX:  825 Y: -116 RGB: (NaN, NaN, NaX:  825 Y: -116 RGB: (NaN, NaN, NaX:  825 Y: -116 RGB: (NaN, NaN, NaX:  825 Y: -116 RGB: (NaN, NaN, NaX:  825 Y: -116 RGB: (NaN, NaN, NaX:  825 Y: -116 RGB: (NaN, NaN, NaX:  825 Y: -116 RGB: (NaN, NaN, NaX:  825 Y: -116 RGB: (NaN, NaN, NaX:  825 Y: -116 RGB: (NaN, NaN, NaX:  825 Y: -116 RGB: (NaN, NaN, NaX:  825 Y: -116 RGB: (NaN, NaN, NaX:  825 Y: -116 RGB: (NaN, NaN, NaX:  825 Y: -116 RGB: (NaN, NaN, NaX:  825 Y: -116 RGB: (NaN, NaN, NaX:  825 Y: -116 RGB: (NaN, NaN, NaX:  825 Y: -116 RGB: (NaN, NaN, NaX:  825 Y: -116 RGB: (NaN, NaN, NaX:  825 Y: -116 RGB: (NaN, NaN, NaX:  825 Y: -116 RGB: (NaN, NaN, NaX:  825 Y: -116 RGB: (NaN, NaN, NaX:  825 Y: -116 RGB: (NaN, NaN, NaX:  825 Y: -116 RGB: (NaN, NaN, NaX:  825 Y: -116 RGB: (NaN, NaN, NaX:  825 Y: -116 RGB: (NaN, NaN, NaX:  825 Y: -116 RGB: (NaN, NaN, Na"
     ]
    },
    {
     "name": "stdout",
     "output_type": "stream",
     "text": [
      "X:  825 Y: -116 RGB: (NaN, NaN, NaX:  825 Y: -116 RGB: (NaN, NaN, NaX:  825 Y: -116 RGB: (NaN, NaN, NaX:  825 Y: -116 RGB: (NaN, NaN, NaX:  825 Y: -116 RGB: (NaN, NaN, NaX:  825 Y: -116 RGB: (NaN, NaN, NaX:  825 Y: -116 RGB: (NaN, NaN, NaX:  825 Y: -116 RGB: (NaN, NaN, NaX:  825 Y: -116 RGB: (NaN, NaN, NaX:  825 Y: -116 RGB: (NaN, NaN, NaX:  826 Y: -116 RGB: (NaN, NaN, NaX:  826 Y: -116 RGB: (NaN, NaN, NaX:  826 Y: -116 RGB: (NaN, NaN, NaX:  826 Y: -116 RGB: (NaN, NaN, NaX:  826 Y: -116 RGB: (NaN, NaN, NaX:  826 Y: -116 RGB: (NaN, NaN, NaX:  826 Y: -116 RGB: (NaN, NaN, NaX:  826 Y: -116 RGB: (NaN, NaN, NaX:  826 Y: -116 RGB: (NaN, NaN, NaX:  826 Y: -116 RGB: (NaN, NaN, NaX:  826 Y: -116 RGB: (NaN, NaN, NaX:  826 Y: -116 RGB: (NaN, NaN, NaX:  826 Y: -116 RGB: (NaN, NaN, NaX:  826 Y: -116 RGB: (NaN, NaN, NaX:  826 Y: -116 RGB: (NaN, NaN, NaX:  826 Y: -116 RGB: (NaN, NaN, NaX:  826 Y: -116 RGB: (NaN, NaN, NaX:  826 Y: -116 RGB: (NaN, NaN, NaX:  826 Y: -116 RGB: (NaN, NaN, NaX:  826 Y: -116 RGB: (NaN, NaN, NaX:  826 Y: -116 RGB: (NaN, NaN, NaX:  826 Y: -116 RGB: (NaN, NaN, NaX:  826 Y: -116 RGB: (NaN, NaN, NaX:  826 Y: -116 RGB: (NaN, NaN, NaX:  826 Y: -116 RGB: (NaN, NaN, NaX:  826 Y: -116 RGB: (NaN, NaN, NaX:  826 Y: -116 RGB: (NaN, NaN, NaX:  826 Y: -116 RGB: (NaN, NaN, NaX:  826 Y: -116 RGB: (NaN, NaN, NaX:  826 Y: -116 RGB: (NaN, NaN, NaX:  826 Y: -116 RGB: (NaN, NaN, NaX:  826 Y: -116 RGB: (NaN, NaN, NaX:  826 Y: -116 RGB: (NaN, NaN, NaX:  826 Y: -116 RGB: (NaN, NaN, NaX:  826 Y: -116 RGB: (NaN, NaN, NaX:  826 Y: -116 RGB: (NaN, NaN, NaX:  826 Y: -116 RGB: (NaN, NaN, NaX:  826 Y: -116 RGB: (NaN, NaN, NaX:  826 Y: -116 RGB: (NaN, NaN, NaX:  826 Y: -116 RGB: (NaN, NaN, NaX:  826 Y: -116 RGB: (NaN, NaN, NaX:  826 Y: -116 RGB: (NaN, NaN, NaX:  826 Y: -116 RGB: (NaN, NaN, NaX:  826 Y: -116 RGB: (NaN, NaN, NaX:  826 Y: -116 RGB: (NaN, NaN, NaX:  826 Y: -116 RGB: (NaN, NaN, NaX:  826 Y: -116 RGB: (NaN, NaN, NaX:  826 Y: -116 RGB: (NaN, NaN, NaX:  826 Y: -116 RGB: (NaN, NaN, NaX:  826 Y: -116 RGB: (NaN, NaN, NaX:  826 Y: -116 RGB: (NaN, NaN, NaX:  826 Y: -116 RGB: (NaN, NaN, NaX:  826 Y: -116 RGB: (NaN, NaN, NaX:  826 Y: -116 RGB: (NaN, NaN, NaX:  826 Y: -116 RGB: (NaN, NaN, NaX:  826 Y: -116 RGB: (NaN, NaN, NaX:  826 Y: -116 RGB: (NaN, NaN, NaX:  826 Y: -116 RGB: (NaN, NaN, NaX:  826 Y: -116 RGB: (NaN, NaN, NaX:  826 Y: -116 RGB: (NaN, NaN, NaX:  826 Y: -116 RGB: (NaN, NaN, NaX:  826 Y: -116 RGB: (NaN, NaN, NaX:  826 Y: -116 RGB: (NaN, NaN, NaX:  826 Y: -116 RGB: (NaN, NaN, NaX:  826 Y: -116 RGB: (NaN, NaN, NaX:  826 Y: -116 RGB: (NaN, NaN, NaX:  826 Y: -116 RGB: (NaN, NaN, NaX:  826 Y: -116 RGB: (NaN, NaN, NaX:  826 Y: -116 RGB: (NaN, NaN, NaX:  826 Y: -116 RGB: (NaN, NaN, NaX:  826 Y: -116 RGB: (NaN, NaN, NaX:  826 Y: -116 RGB: (NaN, NaN, NaX:  826 Y: -116 RGB: (NaN, NaN, NaX:  826 Y: -116 RGB: (NaN, NaN, NaX:  826 Y: -116 RGB: (NaN, NaN, NaX:  826 Y: -116 RGB: (NaN, NaN, NaX:  826 Y: -116 RGB: (NaN, NaN, NaX:  826 Y: -116 RGB: (NaN, NaN, NaX:  826 Y: -116 RGB: (NaN, NaN, NaX:  826 Y: -116 RGB: (NaN, NaN, NaX:  826 Y: -116 RGB: (NaN, NaN, NaX:  826 Y: -116 RGB: (NaN, NaN, NaX:  826 Y: -116 RGB: (NaN, NaN, NaX:  826 Y: -116 RGB: (NaN, NaN, NaX:  826 Y: -116 RGB: (NaN, NaN, NaX:  826 Y: -116 RGB: (NaN, NaN, NaX:  826 Y: -116 RGB: (NaN, NaN, NaX:  826 Y: -116 RGB: (NaN, NaN, NaX:  826 Y: -116 RGB: (NaN, NaN, NaX:  826 Y: -116 RGB: (NaN, NaN, NaX:  826 Y: -116 RGB: (NaN, NaN, NaX:  826 Y: -116 RGB: (NaN, NaN, NaX:  826 Y: -116 RGB: (NaN, NaN, NaX:  826 Y: -116 RGB: (NaN, NaN, NaX:  826 Y: -116 RGB: (NaN, NaN, NaX:  826 Y: -116 RGB: (NaN, NaN, NaX:  826 Y: -116 RGB: (NaN, NaN, NaX:  826 Y: -116 RGB: (NaN, NaN, NaX:  826 Y: -116 RGB: (NaN, NaN, NaX:  826 Y: -116 RGB: (NaN, NaN, NaX:  826 Y: -116 RGB: (NaN, NaN, NaX:  826 Y: -116 RGB: (NaN, NaN, NaX:  826 Y: -116 RGB: (NaN, NaN, NaX:  826 Y: -116 RGB: (NaN, NaN, NaX:  826 Y: -116 RGB: (NaN, NaN, NaX:  826 Y: -116 RGB: (NaN, NaN, NaX:  826 Y: -116 RGB: (NaN, NaN, NaX:  826 Y: -116 RGB: (NaN, NaN, NaX:  826 Y: -116 RGB: (NaN, NaN, NaX:  826 Y: -116 RGB: (NaN, NaN, NaX:  826 Y: -116 RGB: (NaN, NaN, NaX:  826 Y: -116 RGB: (NaN, NaN, NaX:  826 Y: -116 RGB: (NaN, NaN, NaX:  826 Y: -116 RGB: (NaN, NaN, NaX:  826 Y: -116 RGB: (NaN, NaN, NaX:  826 Y: -116 RGB: (NaN, NaN, NaX:  826 Y: -116 RGB: (NaN, NaN, NaX:  826 Y: -116 RGB: (NaN, NaN, NaX:  826 Y: -116 RGB: (NaN, NaN, NaX:  826 Y: -116 RGB: (NaN, NaN, NaX:  826 Y: -116 RGB: (NaN, NaN, NaX:  826 Y: -116 RGB: (NaN, NaN, NaX:  826 Y: -116 RGB: (NaN, NaN, NaX:  826 Y: -116 RGB: (NaN, NaN, NaX:  826 Y: -116 RGB: (NaN, NaN, NaX:  826 Y: -116 RGB: (NaN, NaN, NaX:  826 Y: -116 RGB: (NaN, NaN, NaX:  826 Y: -116 RGB: (NaN, NaN, NaX:  826 Y: -116 RGB: (NaN, NaN, NaX:  826 Y: -116 RGB: (NaN, NaN, NaX:  826 Y: -116 RGB: (NaN, NaN, NaX:  826 Y: -116 RGB: (NaN, NaN, NaX:  826 Y: -116 RGB: (NaN, NaN, NaX:  826 Y: -116 RGB: (NaN, NaN, NaX:  826 Y: -116 RGB: (NaN, NaN, NaX:  826 Y: -116 RGB: (NaN, NaN, NaX:  826 Y: -116 RGB: (NaN, NaN, NaX:  826 Y: -116 RGB: (NaN, NaN, NaX:  826 Y: -116 RGB: (NaN, NaN, NaX:  826 Y: -116 RGB: (NaN, NaN, NaX:  826 Y: -116 RGB: (NaN, NaN, NaX:  826 Y: -116 RGB: (NaN, NaN, NaX:  826 Y: -116 RGB: (NaN, NaN, NaX:  826 Y: -116 RGB: (NaN, NaN, NaX:  826 Y: -116 RGB: (NaN, NaN, NaX:  826 Y: -116 RGB: (NaN, NaN, NaX:  826 Y: -116 RGB: (NaN, NaN, NaX:  826 Y: -116 RGB: (NaN, NaN, NaX:  826 Y: -116 RGB: (NaN, NaN, NaX:  826 Y: -116 RGB: (NaN, NaN, NaX:  826 Y: -116 RGB: (NaN, NaN, NaX:  826 Y: -116 RGB: (NaN, NaN, NaX:  826 Y: -116 RGB: (NaN, NaN, NaX:  826 Y: -116 RGB: (NaN, NaN, NaX:  826 Y: -116 RGB: (NaN, NaN, NaX:  826 Y: -116 RGB: (NaN, NaN, NaX:  826 Y: -116 RGB: (NaN, NaN, NaX:  826 Y: -116 RGB: (NaN, NaN, NaX:  826 Y: -116 RGB: (NaN, NaN, NaX:  826 Y: -116 RGB: (NaN, NaN, NaX:  826 Y: -116 RGB: (NaN, NaN, NaX:  826 Y: -116 RGB: (NaN, NaN, NaX:  826 Y: -116 RGB: (NaN, NaN, NaX:  826 Y: -116 RGB: (NaN, NaN, NaX:  826 Y: -116 RGB: (NaN, NaN, NaX:  826 Y: -116 RGB: (NaN, NaN, NaX:  826 Y: -116 RGB: (NaN, NaN, NaX:  826 Y: -116 RGB: (NaN, NaN, NaX:  826 Y: -116 RGB: (NaN, NaN, NaX:  826 Y: -116 RGB: (NaN, NaN, NaX:  826 Y: -116 RGB: (NaN, NaN, NaX:  826 Y: -116 RGB: (NaN, NaN, NaX:  826 Y: -116 RGB: (NaN, NaN, NaX:  826 Y: -116 RGB: (NaN, NaN, NaX:  826 Y: -116 RGB: (NaN, NaN, NaX:  826 Y: -116 RGB: (NaN, NaN, NaX:  826 Y: -116 RGB: (NaN, NaN, Na\n"
     ]
    }
   ],
   "source": [
    "pyautogui.displayMousePosition(148,321)"
   ]
  },
  {
   "cell_type": "code",
   "execution_count": null,
   "id": "c337701e",
   "metadata": {},
   "outputs": [],
   "source": []
  }
 ],
 "metadata": {
  "kernelspec": {
   "display_name": "Python 3",
   "language": "python",
   "name": "python3"
  },
  "language_info": {
   "codemirror_mode": {
    "name": "ipython",
    "version": 3
   },
   "file_extension": ".py",
   "mimetype": "text/x-python",
   "name": "python",
   "nbconvert_exporter": "python",
   "pygments_lexer": "ipython3",
   "version": "3.8.8"
  }
 },
 "nbformat": 4,
 "nbformat_minor": 5
}
